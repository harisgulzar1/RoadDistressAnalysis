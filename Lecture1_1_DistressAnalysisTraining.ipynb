{
  "nbformat": 4,
  "nbformat_minor": 0,
  "metadata": {
    "colab": {
      "provenance": [],
      "mount_file_id": "138RV844jidvWD65uvSawL5i7o7FZ8KdV",
      "authorship_tag": "ABX9TyPoTCdcJcmifzE5AGgtWuZS",
      "include_colab_link": true
    },
    "kernelspec": {
      "name": "python3",
      "display_name": "Python 3"
    },
    "language_info": {
      "name": "python"
    }
  },
  "cells": [
    {
      "cell_type": "markdown",
      "metadata": {
        "id": "view-in-github",
        "colab_type": "text"
      },
      "source": [
        "<a href=\"https://colab.research.google.com/github/harisgulzar1/RoadDistressAnalysis/blob/main/Lecture1_1_DistressAnalysisTraining.ipynb\" target=\"_parent\"><img src=\"https://colab.research.google.com/assets/colab-badge.svg\" alt=\"Open In Colab\"/></a>"
      ]
    },
    {
      "cell_type": "markdown",
      "source": [
        "# Road Distress Analysis\n",
        "## Lecture 1.1\n",
        "Introduction to Pytorch (Machine Learning Framework) and CNNs"
      ],
      "metadata": {
        "id": "8ClebroxIEhL"
      }
    },
    {
      "cell_type": "markdown",
      "source": [
        "# Basic Python Code\n",
        "The basic python code consists of following major parts.\n",
        "- Documentation (Optional)\n",
        "- Importing Libraries\n",
        "- Global Declaration\n",
        "- Defining a Class and its Functions\n",
        "- Subprogram Section (Functions)\n",
        "- Playground Section (Demonstration)"
      ],
      "metadata": {
        "id": "40Nmh-KFIlZD"
      }
    },
    {
      "cell_type": "code",
      "execution_count": 2,
      "metadata": {
        "colab": {
          "base_uri": "https://localhost:8080/"
        },
        "id": "vJ3Mhj7EVKC8",
        "outputId": "c46d7c48-f060-411c-b0f7-e597f7c72c0b"
      },
      "outputs": [
        {
          "output_type": "stream",
          "name": "stdout",
          "text": [
            "Hello, Haris!\n",
            "Global variable: 10\n",
            "Addition result: 8\n",
            "Multiplication result: 24\n",
            "Square root of 16: 4.0\n"
          ]
        }
      ],
      "source": [
        "\"\"\"\n",
        "Sample Python Script\n",
        "\n",
        "This script demonstrates various components of Python:\n",
        "- Documentation\n",
        "- Importing Libraries\n",
        "- Global Declaration\n",
        "- Defining a Class and its Functions\n",
        "- Subprogram Section (Functions)\n",
        "- Playground Section (Demonstration)\n",
        "\n",
        "Author: Haris Gulzar\n",
        "Date: June 2024\n",
        "\"\"\"\n",
        "\n",
        "# Importing libraries\n",
        "import math\n",
        "\n",
        "# Global variable declaration\n",
        "global_var = 10\n",
        "\n",
        "# Define a class\n",
        "class SampleClass:\n",
        "\n",
        "    # dafault function in each class\n",
        "    def __init__(self, name):\n",
        "        self.name = name\n",
        "\n",
        "    def greet(self):\n",
        "        return f\"Hello, {self.name}!\"\n",
        "\n",
        "    def square_root(self, x):\n",
        "        return math.sqrt(x)\n",
        "\n",
        "# Subprogram section (functions)\n",
        "def add_numbers(a, b):\n",
        "    return a + b\n",
        "\n",
        "def multiply_numbers(a, b):\n",
        "    return a * b\n",
        "\n",
        "# Playground/Main section\n",
        "if __name__ == \"__main__\":\n",
        "    # Create an instance of SampleClass\n",
        "    obj = SampleClass(\"Haris\")\n",
        "\n",
        "    # Demonstrate class method\n",
        "    print(obj.greet())  # Output: Hello, Haris!\n",
        "\n",
        "    # Demonstrate global variable\n",
        "    print(f\"Global variable: {global_var}\")  # Output: Global variable: 10\n",
        "\n",
        "    # Demonstrate functions\n",
        "    print(f\"Addition result: {add_numbers(5, 3)}\")  # Output: Addition result: 8\n",
        "    print(f\"Multiplication result: {multiply_numbers(4, 6)}\")  # Output: Multiplication result: 24\n",
        "\n",
        "    # Demonstrate class method using imported math library\n",
        "    print(f\"Square root of 16: {obj.square_root(16)}\")  # Output: Square root of 16: 4.0"
      ]
    },
    {
      "cell_type": "markdown",
      "source": [
        "## Exercise ❓\n",
        "Write a new function of division and use it in the main part of the code."
      ],
      "metadata": {
        "id": "EYWubroIJEZc"
      }
    },
    {
      "cell_type": "markdown",
      "source": [
        "# Introduction to Convolutional Network (CNN)"
      ],
      "metadata": {
        "id": "CJW_lEw6IHxD"
      }
    },
    {
      "cell_type": "code",
      "source": [
        "import torch\n",
        "import torch.nn as nn\n",
        "import torch.optim as optim\n",
        "import torchvision\n",
        "import torchvision.transforms as transforms\n",
        "from torchvision.datasets import MNIST\n",
        "from torch.utils.data import DataLoader, random_split\n",
        "\n",
        "# Define the CNN architecture\n",
        "class CNN(nn.Module):\n",
        "    def __init__(self):\n",
        "        super(CNN, self).__init__()\n",
        "        self.conv1 = nn.Conv2d(1, 32, kernel_size=3, stride=1, padding=1)\n",
        "        self.conv2 = nn.Conv2d(32, 64, kernel_size=3, stride=1, padding=1)\n",
        "        self.pool = nn.MaxPool2d(kernel_size=2, stride=2, padding=0)\n",
        "        self.fc1 = nn.Linear(64 * 7 * 7, 128)\n",
        "        self.fc2 = nn.Linear(128, 10)\n",
        "\n",
        "    def forward(self, x):\n",
        "        x = self.pool(nn.functional.relu(self.conv1(x)))\n",
        "        x = self.pool(nn.functional.relu(self.conv2(x)))\n",
        "        x = torch.flatten(x, 1)\n",
        "        x = nn.functional.relu(self.fc1(x))\n",
        "        x = self.fc2(x)\n",
        "        return x\n",
        "\n",
        "# Prepare data\n",
        "transform = transforms.Compose([\n",
        "    transforms.ToTensor(),\n",
        "    transforms.Normalize((0.5,), (0.5,))\n",
        "])\n",
        "\n",
        "# Load MNIST dataset\n",
        "mnist_train = MNIST(root='./data', train=True, download=True, transform=transform)\n",
        "mnist_test = MNIST(root='./data', train=False, download=True, transform=transform)\n",
        "\n",
        "# Split train set into train and validation set\n",
        "train_size = int(0.8 * len(mnist_train))\n",
        "val_size = len(mnist_train) - train_size\n",
        "mnist_train, mnist_val = random_split(mnist_train, [train_size, val_size])\n",
        "\n",
        "# Create data loaders\n",
        "train_loader = DataLoader(mnist_train, batch_size=64, shuffle=True)\n",
        "val_loader = DataLoader(mnist_val, batch_size=64, shuffle=False)\n",
        "test_loader = DataLoader(mnist_test, batch_size=64, shuffle=False)\n",
        "\n",
        "# Initialize the CNN model, loss function, and optimizer\n",
        "model = CNN()\n",
        "criterion = nn.CrossEntropyLoss()\n",
        "optimizer = optim.Adam(model.parameters(), lr=0.001)\n",
        "\n",
        "# Training loop\n",
        "num_epochs = 3\n",
        "for epoch in range(num_epochs):\n",
        "    model.train()\n",
        "    running_loss = 0.0\n",
        "    for images, labels in train_loader:\n",
        "        optimizer.zero_grad()\n",
        "        outputs = model(images)\n",
        "        loss = criterion(outputs, labels)\n",
        "        loss.backward()\n",
        "        optimizer.step()\n",
        "        running_loss += loss.item() * images.size(0)\n",
        "\n",
        "    # Validation loop\n",
        "    model.eval()\n",
        "    val_loss = 0.0\n",
        "    correct = 0\n",
        "    total = 0\n",
        "    with torch.no_grad():\n",
        "        for images, labels in val_loader:\n",
        "            outputs = model(images)\n",
        "            loss = criterion(outputs, labels)\n",
        "            val_loss += loss.item() * images.size(0)\n",
        "            _, predicted = torch.max(outputs.data, 1)\n",
        "            total += labels.size(0)\n",
        "            correct += (predicted == labels).sum().item()\n",
        "\n",
        "    # Print statistics\n",
        "    epoch_loss = running_loss / len(mnist_train)\n",
        "    val_accuracy = correct / total * 100\n",
        "    print(f'Epoch [{epoch+1}/{num_epochs}], Loss: {epoch_loss:.4f}, Validation Accuracy: {val_accuracy:.2f}%')\n",
        "\n",
        "print('Finished Training')\n",
        "\n",
        "# Test the model\n",
        "model.eval()\n",
        "test_correct = 0\n",
        "test_total = 0\n",
        "with torch.no_grad():\n",
        "    for images, labels in test_loader:\n",
        "        outputs = model(images)\n",
        "        _, predicted = torch.max(outputs.data, 1)\n",
        "        test_total += labels.size(0)\n",
        "        test_correct += (predicted == labels).sum().item()\n",
        "\n",
        "test_accuracy = test_correct / test_total * 100\n",
        "print(f'Test Accuracy: {test_accuracy:.2f}%')\n"
      ],
      "metadata": {
        "colab": {
          "base_uri": "https://localhost:8080/"
        },
        "id": "Etv729b2XCGk",
        "outputId": "3a09de83-074f-47eb-a622-46e7fbd593c5"
      },
      "execution_count": 3,
      "outputs": [
        {
          "output_type": "stream",
          "name": "stdout",
          "text": [
            "Downloading http://yann.lecun.com/exdb/mnist/train-images-idx3-ubyte.gz\n",
            "Failed to download (trying next):\n",
            "HTTP Error 403: Forbidden\n",
            "\n",
            "Downloading https://ossci-datasets.s3.amazonaws.com/mnist/train-images-idx3-ubyte.gz\n",
            "Downloading https://ossci-datasets.s3.amazonaws.com/mnist/train-images-idx3-ubyte.gz to ./data/MNIST/raw/train-images-idx3-ubyte.gz\n"
          ]
        },
        {
          "output_type": "stream",
          "name": "stderr",
          "text": [
            "100%|██████████| 9912422/9912422 [00:00<00:00, 38098150.19it/s]\n"
          ]
        },
        {
          "output_type": "stream",
          "name": "stdout",
          "text": [
            "Extracting ./data/MNIST/raw/train-images-idx3-ubyte.gz to ./data/MNIST/raw\n",
            "\n",
            "Downloading http://yann.lecun.com/exdb/mnist/train-labels-idx1-ubyte.gz\n",
            "Failed to download (trying next):\n",
            "HTTP Error 403: Forbidden\n",
            "\n",
            "Downloading https://ossci-datasets.s3.amazonaws.com/mnist/train-labels-idx1-ubyte.gz\n",
            "Downloading https://ossci-datasets.s3.amazonaws.com/mnist/train-labels-idx1-ubyte.gz to ./data/MNIST/raw/train-labels-idx1-ubyte.gz\n"
          ]
        },
        {
          "output_type": "stream",
          "name": "stderr",
          "text": [
            "100%|██████████| 28881/28881 [00:00<00:00, 1110735.42it/s]\n"
          ]
        },
        {
          "output_type": "stream",
          "name": "stdout",
          "text": [
            "Extracting ./data/MNIST/raw/train-labels-idx1-ubyte.gz to ./data/MNIST/raw\n",
            "\n",
            "Downloading http://yann.lecun.com/exdb/mnist/t10k-images-idx3-ubyte.gz\n",
            "Failed to download (trying next):\n",
            "HTTP Error 403: Forbidden\n",
            "\n",
            "Downloading https://ossci-datasets.s3.amazonaws.com/mnist/t10k-images-idx3-ubyte.gz\n",
            "Downloading https://ossci-datasets.s3.amazonaws.com/mnist/t10k-images-idx3-ubyte.gz to ./data/MNIST/raw/t10k-images-idx3-ubyte.gz\n"
          ]
        },
        {
          "output_type": "stream",
          "name": "stderr",
          "text": [
            "100%|██████████| 1648877/1648877 [00:00<00:00, 10965838.87it/s]\n"
          ]
        },
        {
          "output_type": "stream",
          "name": "stdout",
          "text": [
            "Extracting ./data/MNIST/raw/t10k-images-idx3-ubyte.gz to ./data/MNIST/raw\n",
            "\n",
            "Downloading http://yann.lecun.com/exdb/mnist/t10k-labels-idx1-ubyte.gz\n",
            "Failed to download (trying next):\n",
            "HTTP Error 403: Forbidden\n",
            "\n",
            "Downloading https://ossci-datasets.s3.amazonaws.com/mnist/t10k-labels-idx1-ubyte.gz\n",
            "Downloading https://ossci-datasets.s3.amazonaws.com/mnist/t10k-labels-idx1-ubyte.gz to ./data/MNIST/raw/t10k-labels-idx1-ubyte.gz\n"
          ]
        },
        {
          "output_type": "stream",
          "name": "stderr",
          "text": [
            "100%|██████████| 4542/4542 [00:00<00:00, 6519688.15it/s]"
          ]
        },
        {
          "output_type": "stream",
          "name": "stdout",
          "text": [
            "Extracting ./data/MNIST/raw/t10k-labels-idx1-ubyte.gz to ./data/MNIST/raw\n",
            "\n"
          ]
        },
        {
          "output_type": "stream",
          "name": "stderr",
          "text": [
            "\n"
          ]
        },
        {
          "output_type": "stream",
          "name": "stdout",
          "text": [
            "Epoch [1/10], Loss: 0.1789, Validation Accuracy: 97.71%\n",
            "Epoch [2/10], Loss: 0.0476, Validation Accuracy: 98.54%\n",
            "Epoch [3/10], Loss: 0.0332, Validation Accuracy: 98.66%\n",
            "Epoch [4/10], Loss: 0.0241, Validation Accuracy: 98.94%\n",
            "Epoch [5/10], Loss: 0.0173, Validation Accuracy: 98.88%\n",
            "Epoch [6/10], Loss: 0.0128, Validation Accuracy: 98.97%\n",
            "Epoch [7/10], Loss: 0.0107, Validation Accuracy: 99.02%\n",
            "Epoch [8/10], Loss: 0.0110, Validation Accuracy: 98.90%\n",
            "Epoch [9/10], Loss: 0.0084, Validation Accuracy: 98.72%\n",
            "Epoch [10/10], Loss: 0.0078, Validation Accuracy: 99.08%\n",
            "Finished Training\n",
            "Test Accuracy: 99.00%\n"
          ]
        }
      ]
    },
    {
      "cell_type": "markdown",
      "source": [
        "## Loading the Pretrained Model"
      ],
      "metadata": {
        "id": "kyulTEtuLJCO"
      }
    },
    {
      "cell_type": "code",
      "source": [
        "# Define a path where you want to save the entire model\n",
        "model_path = '/content/drive/MyDrive/AItraining2data/mnist_cnn_model.pt'\n",
        "\n",
        "# Save the entire model (including architecture and state_dict) to the specified path\n",
        "torch.save(model, model_path)"
      ],
      "metadata": {
        "id": "AAR05TcsbvKg"
      },
      "execution_count": 9,
      "outputs": []
    },
    {
      "cell_type": "markdown",
      "source": [
        "## Testing CNN with examples"
      ],
      "metadata": {
        "id": "xSodegg1LY2Z"
      }
    },
    {
      "cell_type": "code",
      "source": [
        "\n",
        "import torch\n",
        "import matplotlib.pyplot as plt\n",
        "import numpy as np\n",
        "from torchvision.datasets import MNIST\n",
        "import random\n",
        "\n",
        "# Load the saved model from the .pt file\n",
        "model = torch.load(model_path)\n",
        "\n",
        "# Function to visualize and perform inference on a random MNIST sample\n",
        "def visualize_and_infer(model, dataset):\n",
        "    # Set model to evaluation mode\n",
        "    model.eval()\n",
        "\n",
        "    # Randomly pick a sample from the dataset\n",
        "    idx = random.randint(0, len(dataset) - 1)\n",
        "    image, label = dataset[idx]\n",
        "\n",
        "    # Perform inference\n",
        "    with torch.no_grad():\n",
        "        # Forward pass through the model\n",
        "        output = model(image.unsqueeze(0))  # Add batch dimension\n",
        "\n",
        "        # Get predicted class\n",
        "        _, predicted = torch.max(output, 1)\n",
        "\n",
        "    # Visualize the image and prediction\n",
        "    plt.imshow(image.squeeze(), cmap='gray')\n",
        "    plt.title(f'Label: {label}, Predicted: {predicted.item()}')\n",
        "    plt.axis('off')\n",
        "    plt.show()\n",
        "\n",
        "# Load MNIST dataset for inference\n",
        "transform = transforms.Compose([\n",
        "    transforms.ToTensor(),\n",
        "    transforms.Normalize((0.5,), (0.5,))\n",
        "])\n",
        "mnist_test = MNIST(root='./data', train=False, download=True, transform=transform)\n",
        "\n",
        "# Call the function to visualize and infer\n",
        "visualize_and_infer(model, mnist_test)"
      ],
      "metadata": {
        "colab": {
          "base_uri": "https://localhost:8080/",
          "height": 428
        },
        "id": "goRaWy07Ydck",
        "outputId": "362b9006-7b33-46d1-db92-010841641cda"
      },
      "execution_count": 17,
      "outputs": [
        {
          "output_type": "display_data",
          "data": {
            "text/plain": [
              "<Figure size 640x480 with 1 Axes>"
            ],
            "image/png": "[encoded data removed]"
          },
          "metadata": {}
        }
      ]
    },
    {
      "cell_type": "markdown",
      "source": [
        "## Exercise ❓\n",
        "1. Draw an image on your PC\n",
        "2. Upload to the drive\n",
        "3. Predict using the following code"
      ],
      "metadata": {
        "id": "S-gAs1UjLe7h"
      }
    },
    {
      "cell_type": "code",
      "source": [
        "import torchvision.transforms as transforms\n",
        "from PIL import Image\n",
        "\n",
        "# Function to preprocess the uploaded image\n",
        "def preprocess_image(image_path):\n",
        "    image = Image.open(image_path)\n",
        "\n",
        "    # Resize image to 28x28\n",
        "    transform = transforms.Compose([\n",
        "        transforms.Resize((28, 28)),\n",
        "        transforms.Grayscale(num_output_channels=1),  # Convert to grayscale\n",
        "        transforms.ToTensor(),  # Convert to tensor\n",
        "        transforms.Normalize((0.5,), (0.5,))  # Normalize\n",
        "    ])\n",
        "\n",
        "    # Apply transformations\n",
        "    image_tensor = transform(image).unsqueeze(0)  # Add batch dimension\n",
        "    return image_tensor\n",
        "\n",
        "# Function to classify the uploaded image using the pre-trained model\n",
        "def classify_uploaded_image(model, image_path):\n",
        "    # Preprocess the image\n",
        "    image_tensor = preprocess_image(image_path)\n",
        "\n",
        "    # Set model to evaluation mode\n",
        "    model.eval()\n",
        "\n",
        "    # Perform inference\n",
        "    with torch.no_grad():\n",
        "        output = model(image_tensor)\n",
        "        _, predicted = torch.max(output, 1)\n",
        "\n",
        "    # Return predicted label\n",
        "    return predicted.item()\n",
        "\n",
        "# Example usage with an image from local PC\n",
        "image_path = '/content/4digit.png'\n",
        "\n",
        "# Replace with your local image path\n",
        "predicted_label = classify_uploaded_image(model, image_path)\n",
        "\n",
        "# Print the predicted label\n",
        "print(f'Predicted Label: {predicted_label}')"
      ],
      "metadata": {
        "colab": {
          "base_uri": "https://localhost:8080/"
        },
        "id": "MhMn_wT8eFV2",
        "outputId": "a482faf9-f2f5-413c-f2e3-af955ced1d83"
      },
      "execution_count": 19,
      "outputs": [
        {
          "output_type": "stream",
          "name": "stdout",
          "text": [
            "Predicted Label: 7\n"
          ]
        }
      ]
    }
  ]
}